{
 "cells": [
  {
   "cell_type": "markdown",
   "id": "892561e9",
   "metadata": {},
   "source": [
    "# To-Analyze-And-Predict-The-Gold-Price\n",
    "\n",
    "Table of Content :-\n",
    "  \n",
    "  1) Problem Statement\n",
    "  \n",
    "  2) Goal of these project\n",
    "  \n",
    "  3) Methods and models used\n",
    "  \n",
    "  4) Why i used LinearRegression and RandomForestRegressor\n",
    "  \n",
    "  5) Workdone\n",
    "  \n",
    "  6) Conclusion\n",
    "  \n",
    "  7) Result\n",
    "  \n",
    "  \n",
    "  \n",
    "  \n",
    "  \n",
    "  \n",
    "  \n",
    "\n",
    "\n",
    "\n",
    "\n",
    "\n",
    "\n",
    "\n",
    "\n",
    "Problem Statement :-\n",
    "\n",
    "   i) I'm Ganesh let's say i'm hired as a data scientist in XYZ company based in India,i'm hired as a fresher and hopefully i got my first task,it's about a Gold price linearly increases with various factor but here the problem is no any one particular factor to predict the gold price and it is very boring and time consumimg procedure.I had a task to solve this problem.\n",
    "   \n",
    "   ii) Company provided the data,data is about a Comman separated value file format with 2290 rows and 7 columns. It contains 5 columns which are numerical in datatype and one column in Date format. Clearly the data shows value of the variables SPX,GLD,USO,SLV,EUR/USD against the dates in the date column.I have predict gold price.\n",
    "   \n",
    "   \n",
    "Goal of these project :-\n",
    "   \n",
    "   To analyze and predict, the Gold price.\n",
    "   \n",
    "   \n",
    "Methods and models used :-\n",
    "    \n",
    "   a) Supervised Learning :-\n",
    "     \n",
    "     i)Linear regression\n",
    "     \n",
    "     ii)Random Forest Regressor\n",
    "     \n",
    "     \n",
    "Why i used LinearRegression and RandomForestRegressor :-\n",
    "\n",
    "   This is a Regression dataset.which mean in dataset have continuous data or Numeric data so we use regression models.This two LinearRegression and RandomForestRegressor algorithm give good accuracy.\n",
    "   \n",
    "   \n",
    "Workdone :-\n",
    "\n",
    "   By using regression i tryed to predicted the gold price.Here, X is the feature variable, containing all the features like SPX, USO, SLV, etc., on which the price of gold depends, excluding the GLD and Date column itself.\n",
    "   Y, on the other hand, is the target variable, as that is the result that we want to determine,i.e, the price of Gold. (It contains only the GLD column).\n",
    "   Now, we will be splitting the data into four variables and import the model then evaluation of model and finally Calculating the R-Squared error from the predicted value and Comparing the Actual Values and the Predicted Values.\n",
    "   "
   ]
  },
  {
   "cell_type": "markdown",
   "id": "1af9fe4b",
   "metadata": {},
   "source": [
    "# Importing the Libraries"
   ]
  },
  {
   "cell_type": "code",
   "execution_count": 1,
   "id": "4dace79b",
   "metadata": {},
   "outputs": [],
   "source": [
    "import numpy as np\n",
    "import pandas as pd\n",
    "import matplotlib.pyplot as plt\n",
    "import seaborn as sns\n",
    "import warnings\n",
    "warnings.filterwarnings(\"ignore\")\n",
    "from sklearn.model_selection import train_test_split\n",
    "from sklearn.ensemble import RandomForestRegressor\n",
    "from sklearn import metrics"
   ]
  },
  {
   "cell_type": "markdown",
   "id": "45f9038d",
   "metadata": {},
   "source": [
    "# Data Collection and Processing"
   ]
  },
  {
   "cell_type": "code",
   "execution_count": 2,
   "id": "2636a0f3",
   "metadata": {},
   "outputs": [
    {
     "data": {
      "text/html": [
       "<div>\n",
       "<style scoped>\n",
       "    .dataframe tbody tr th:only-of-type {\n",
       "        vertical-align: middle;\n",
       "    }\n",
       "\n",
       "    .dataframe tbody tr th {\n",
       "        vertical-align: top;\n",
       "    }\n",
       "\n",
       "    .dataframe thead th {\n",
       "        text-align: right;\n",
       "    }\n",
       "</style>\n",
       "<table border=\"1\" class=\"dataframe\">\n",
       "  <thead>\n",
       "    <tr style=\"text-align: right;\">\n",
       "      <th></th>\n",
       "      <th>Date</th>\n",
       "      <th>SPX</th>\n",
       "      <th>GLD</th>\n",
       "      <th>USO</th>\n",
       "      <th>SLV</th>\n",
       "      <th>EUR/USD</th>\n",
       "    </tr>\n",
       "  </thead>\n",
       "  <tbody>\n",
       "    <tr>\n",
       "      <th>0</th>\n",
       "      <td>1/2/2008</td>\n",
       "      <td>1447.160034</td>\n",
       "      <td>84.860001</td>\n",
       "      <td>78.470001</td>\n",
       "      <td>15.180</td>\n",
       "      <td>1.471692</td>\n",
       "    </tr>\n",
       "    <tr>\n",
       "      <th>1</th>\n",
       "      <td>1/3/2008</td>\n",
       "      <td>1447.160034</td>\n",
       "      <td>85.570000</td>\n",
       "      <td>78.370003</td>\n",
       "      <td>15.285</td>\n",
       "      <td>1.474491</td>\n",
       "    </tr>\n",
       "    <tr>\n",
       "      <th>2</th>\n",
       "      <td>1/4/2008</td>\n",
       "      <td>1411.630005</td>\n",
       "      <td>85.129997</td>\n",
       "      <td>77.309998</td>\n",
       "      <td>15.167</td>\n",
       "      <td>1.475492</td>\n",
       "    </tr>\n",
       "    <tr>\n",
       "      <th>3</th>\n",
       "      <td>1/7/2008</td>\n",
       "      <td>1416.180054</td>\n",
       "      <td>84.769997</td>\n",
       "      <td>75.500000</td>\n",
       "      <td>15.053</td>\n",
       "      <td>1.468299</td>\n",
       "    </tr>\n",
       "    <tr>\n",
       "      <th>4</th>\n",
       "      <td>1/8/2008</td>\n",
       "      <td>1390.189941</td>\n",
       "      <td>86.779999</td>\n",
       "      <td>76.059998</td>\n",
       "      <td>15.590</td>\n",
       "      <td>1.557099</td>\n",
       "    </tr>\n",
       "  </tbody>\n",
       "</table>\n",
       "</div>"
      ],
      "text/plain": [
       "       Date          SPX        GLD        USO     SLV   EUR/USD\n",
       "0  1/2/2008  1447.160034  84.860001  78.470001  15.180  1.471692\n",
       "1  1/3/2008  1447.160034  85.570000  78.370003  15.285  1.474491\n",
       "2  1/4/2008  1411.630005  85.129997  77.309998  15.167  1.475492\n",
       "3  1/7/2008  1416.180054  84.769997  75.500000  15.053  1.468299\n",
       "4  1/8/2008  1390.189941  86.779999  76.059998  15.590  1.557099"
      ]
     },
     "execution_count": 2,
     "metadata": {},
     "output_type": "execute_result"
    }
   ],
   "source": [
    "gold_data=pd.read_csv(\"gld_price_data.csv\")\n",
    "gold_data.head()"
   ]
  },
  {
   "cell_type": "code",
   "execution_count": 3,
   "id": "eb8db14d",
   "metadata": {
    "scrolled": true
   },
   "outputs": [
    {
     "data": {
      "text/html": [
       "<div>\n",
       "<style scoped>\n",
       "    .dataframe tbody tr th:only-of-type {\n",
       "        vertical-align: middle;\n",
       "    }\n",
       "\n",
       "    .dataframe tbody tr th {\n",
       "        vertical-align: top;\n",
       "    }\n",
       "\n",
       "    .dataframe thead th {\n",
       "        text-align: right;\n",
       "    }\n",
       "</style>\n",
       "<table border=\"1\" class=\"dataframe\">\n",
       "  <thead>\n",
       "    <tr style=\"text-align: right;\">\n",
       "      <th></th>\n",
       "      <th>Date</th>\n",
       "      <th>SPX</th>\n",
       "      <th>GLD</th>\n",
       "      <th>USO</th>\n",
       "      <th>SLV</th>\n",
       "      <th>EUR/USD</th>\n",
       "    </tr>\n",
       "  </thead>\n",
       "  <tbody>\n",
       "    <tr>\n",
       "      <th>2285</th>\n",
       "      <td>5/8/2018</td>\n",
       "      <td>2671.919922</td>\n",
       "      <td>124.589996</td>\n",
       "      <td>14.0600</td>\n",
       "      <td>15.5100</td>\n",
       "      <td>1.186789</td>\n",
       "    </tr>\n",
       "    <tr>\n",
       "      <th>2286</th>\n",
       "      <td>5/9/2018</td>\n",
       "      <td>2697.790039</td>\n",
       "      <td>124.330002</td>\n",
       "      <td>14.3700</td>\n",
       "      <td>15.5300</td>\n",
       "      <td>1.184722</td>\n",
       "    </tr>\n",
       "    <tr>\n",
       "      <th>2287</th>\n",
       "      <td>5/10/2018</td>\n",
       "      <td>2723.070068</td>\n",
       "      <td>125.180000</td>\n",
       "      <td>14.4100</td>\n",
       "      <td>15.7400</td>\n",
       "      <td>1.191753</td>\n",
       "    </tr>\n",
       "    <tr>\n",
       "      <th>2288</th>\n",
       "      <td>5/14/2018</td>\n",
       "      <td>2730.129883</td>\n",
       "      <td>124.489998</td>\n",
       "      <td>14.3800</td>\n",
       "      <td>15.5600</td>\n",
       "      <td>1.193118</td>\n",
       "    </tr>\n",
       "    <tr>\n",
       "      <th>2289</th>\n",
       "      <td>5/16/2018</td>\n",
       "      <td>2725.780029</td>\n",
       "      <td>122.543800</td>\n",
       "      <td>14.4058</td>\n",
       "      <td>15.4542</td>\n",
       "      <td>1.182033</td>\n",
       "    </tr>\n",
       "  </tbody>\n",
       "</table>\n",
       "</div>"
      ],
      "text/plain": [
       "           Date          SPX         GLD      USO      SLV   EUR/USD\n",
       "2285   5/8/2018  2671.919922  124.589996  14.0600  15.5100  1.186789\n",
       "2286   5/9/2018  2697.790039  124.330002  14.3700  15.5300  1.184722\n",
       "2287  5/10/2018  2723.070068  125.180000  14.4100  15.7400  1.191753\n",
       "2288  5/14/2018  2730.129883  124.489998  14.3800  15.5600  1.193118\n",
       "2289  5/16/2018  2725.780029  122.543800  14.4058  15.4542  1.182033"
      ]
     },
     "execution_count": 3,
     "metadata": {},
     "output_type": "execute_result"
    }
   ],
   "source": [
    "gold_data.tail()"
   ]
  },
  {
   "cell_type": "markdown",
   "id": "8662b45f",
   "metadata": {},
   "source": [
    "# Number of rows and columns"
   ]
  },
  {
   "cell_type": "code",
   "execution_count": 4,
   "id": "15791dc3",
   "metadata": {},
   "outputs": [
    {
     "data": {
      "text/plain": [
       "(2290, 6)"
      ]
     },
     "execution_count": 4,
     "metadata": {},
     "output_type": "execute_result"
    }
   ],
   "source": [
    "gold_data.shape"
   ]
  },
  {
   "cell_type": "markdown",
   "id": "ebb1442b",
   "metadata": {},
   "source": [
    "# Getting some basic informations about the data"
   ]
  },
  {
   "cell_type": "code",
   "execution_count": 5,
   "id": "656834da",
   "metadata": {},
   "outputs": [
    {
     "name": "stdout",
     "output_type": "stream",
     "text": [
      "<class 'pandas.core.frame.DataFrame'>\n",
      "RangeIndex: 2290 entries, 0 to 2289\n",
      "Data columns (total 6 columns):\n",
      " #   Column   Non-Null Count  Dtype  \n",
      "---  ------   --------------  -----  \n",
      " 0   Date     2290 non-null   object \n",
      " 1   SPX      2290 non-null   float64\n",
      " 2   GLD      2290 non-null   float64\n",
      " 3   USO      2290 non-null   float64\n",
      " 4   SLV      2290 non-null   float64\n",
      " 5   EUR/USD  2290 non-null   float64\n",
      "dtypes: float64(5), object(1)\n",
      "memory usage: 107.5+ KB\n"
     ]
    }
   ],
   "source": [
    "gold_data.info()"
   ]
  },
  {
   "cell_type": "markdown",
   "id": "cd55131f",
   "metadata": {},
   "source": [
    "# checking the number of missing values"
   ]
  },
  {
   "cell_type": "code",
   "execution_count": 6,
   "id": "eceb320b",
   "metadata": {},
   "outputs": [
    {
     "data": {
      "text/plain": [
       "Date       0\n",
       "SPX        0\n",
       "GLD        0\n",
       "USO        0\n",
       "SLV        0\n",
       "EUR/USD    0\n",
       "dtype: int64"
      ]
     },
     "execution_count": 6,
     "metadata": {},
     "output_type": "execute_result"
    }
   ],
   "source": [
    "gold_data.isnull().sum()"
   ]
  },
  {
   "cell_type": "markdown",
   "id": "62e1e72d",
   "metadata": {},
   "source": [
    "# Getting the statistical measures of the data"
   ]
  },
  {
   "cell_type": "code",
   "execution_count": 7,
   "id": "ccaf17b6",
   "metadata": {},
   "outputs": [
    {
     "data": {
      "text/html": [
       "<div>\n",
       "<style scoped>\n",
       "    .dataframe tbody tr th:only-of-type {\n",
       "        vertical-align: middle;\n",
       "    }\n",
       "\n",
       "    .dataframe tbody tr th {\n",
       "        vertical-align: top;\n",
       "    }\n",
       "\n",
       "    .dataframe thead th {\n",
       "        text-align: right;\n",
       "    }\n",
       "</style>\n",
       "<table border=\"1\" class=\"dataframe\">\n",
       "  <thead>\n",
       "    <tr style=\"text-align: right;\">\n",
       "      <th></th>\n",
       "      <th>SPX</th>\n",
       "      <th>GLD</th>\n",
       "      <th>USO</th>\n",
       "      <th>SLV</th>\n",
       "      <th>EUR/USD</th>\n",
       "    </tr>\n",
       "  </thead>\n",
       "  <tbody>\n",
       "    <tr>\n",
       "      <th>count</th>\n",
       "      <td>2290.000000</td>\n",
       "      <td>2290.000000</td>\n",
       "      <td>2290.000000</td>\n",
       "      <td>2290.000000</td>\n",
       "      <td>2290.000000</td>\n",
       "    </tr>\n",
       "    <tr>\n",
       "      <th>mean</th>\n",
       "      <td>1654.315776</td>\n",
       "      <td>122.732875</td>\n",
       "      <td>31.842221</td>\n",
       "      <td>20.084997</td>\n",
       "      <td>1.283653</td>\n",
       "    </tr>\n",
       "    <tr>\n",
       "      <th>std</th>\n",
       "      <td>519.111540</td>\n",
       "      <td>23.283346</td>\n",
       "      <td>19.523517</td>\n",
       "      <td>7.092566</td>\n",
       "      <td>0.131547</td>\n",
       "    </tr>\n",
       "    <tr>\n",
       "      <th>min</th>\n",
       "      <td>676.530029</td>\n",
       "      <td>70.000000</td>\n",
       "      <td>7.960000</td>\n",
       "      <td>8.850000</td>\n",
       "      <td>1.039047</td>\n",
       "    </tr>\n",
       "    <tr>\n",
       "      <th>25%</th>\n",
       "      <td>1239.874969</td>\n",
       "      <td>109.725000</td>\n",
       "      <td>14.380000</td>\n",
       "      <td>15.570000</td>\n",
       "      <td>1.171313</td>\n",
       "    </tr>\n",
       "    <tr>\n",
       "      <th>50%</th>\n",
       "      <td>1551.434998</td>\n",
       "      <td>120.580002</td>\n",
       "      <td>33.869999</td>\n",
       "      <td>17.268500</td>\n",
       "      <td>1.303297</td>\n",
       "    </tr>\n",
       "    <tr>\n",
       "      <th>75%</th>\n",
       "      <td>2073.010070</td>\n",
       "      <td>132.840004</td>\n",
       "      <td>37.827501</td>\n",
       "      <td>22.882500</td>\n",
       "      <td>1.369971</td>\n",
       "    </tr>\n",
       "    <tr>\n",
       "      <th>max</th>\n",
       "      <td>2872.870117</td>\n",
       "      <td>184.589996</td>\n",
       "      <td>117.480003</td>\n",
       "      <td>47.259998</td>\n",
       "      <td>1.598798</td>\n",
       "    </tr>\n",
       "  </tbody>\n",
       "</table>\n",
       "</div>"
      ],
      "text/plain": [
       "               SPX          GLD          USO          SLV      EUR/USD\n",
       "count  2290.000000  2290.000000  2290.000000  2290.000000  2290.000000\n",
       "mean   1654.315776   122.732875    31.842221    20.084997     1.283653\n",
       "std     519.111540    23.283346    19.523517     7.092566     0.131547\n",
       "min     676.530029    70.000000     7.960000     8.850000     1.039047\n",
       "25%    1239.874969   109.725000    14.380000    15.570000     1.171313\n",
       "50%    1551.434998   120.580002    33.869999    17.268500     1.303297\n",
       "75%    2073.010070   132.840004    37.827501    22.882500     1.369971\n",
       "max    2872.870117   184.589996   117.480003    47.259998     1.598798"
      ]
     },
     "execution_count": 7,
     "metadata": {},
     "output_type": "execute_result"
    }
   ],
   "source": [
    "gold_data.describe()"
   ]
  },
  {
   "cell_type": "markdown",
   "id": "eb3f0dea",
   "metadata": {},
   "source": [
    "# constructing a heatmap to understand the correlatiom"
   ]
  },
  {
   "cell_type": "code",
   "execution_count": 8,
   "id": "8f5f823e",
   "metadata": {},
   "outputs": [],
   "source": [
    "correlation = gold_data.corr()"
   ]
  },
  {
   "cell_type": "code",
   "execution_count": 9,
   "id": "56be2a1f",
   "metadata": {
    "scrolled": true
   },
   "outputs": [
    {
     "data": {
      "text/plain": [
       "<AxesSubplot:>"
      ]
     },
     "execution_count": 9,
     "metadata": {},
     "output_type": "execute_result"
    },
    {
     "data": {
      "image/png": "[encoded data removed]",
      "text/plain": [
       "<Figure size 576x576 with 2 Axes>"
      ]
     },
     "metadata": {
      "needs_background": "light"
     },
     "output_type": "display_data"
    }
   ],
   "source": [
    "plt.figure(figsize = (8,8))\n",
    "sns.heatmap(correlation, cbar=True, square=True, fmt='.1f',annot=True, annot_kws={'size':8}, cmap='Blues')"
   ]
  },
  {
   "cell_type": "markdown",
   "id": "5006ab09",
   "metadata": {},
   "source": [
    "# Correlation values of GLD"
   ]
  },
  {
   "cell_type": "code",
   "execution_count": 10,
   "id": "3cacf9d9",
   "metadata": {},
   "outputs": [
    {
     "name": "stdout",
     "output_type": "stream",
     "text": [
      "SPX        0.049345\n",
      "GLD        1.000000\n",
      "USO       -0.186360\n",
      "SLV        0.866632\n",
      "EUR/USD   -0.024375\n",
      "Name: GLD, dtype: float64\n"
     ]
    }
   ],
   "source": [
    "print(correlation['GLD'])"
   ]
  },
  {
   "cell_type": "markdown",
   "id": "05dceb1b",
   "metadata": {},
   "source": [
    "# Checking the distribution of the GLD Price"
   ]
  },
  {
   "cell_type": "code",
   "execution_count": 11,
   "id": "266febd2",
   "metadata": {},
   "outputs": [
    {
     "data": {
      "text/plain": [
       "<AxesSubplot:xlabel='GLD', ylabel='Density'>"
      ]
     },
     "execution_count": 11,
     "metadata": {},
     "output_type": "execute_result"
    },
    {
     "data": {
      "image/png": "[encoded data removed]",
      "text/plain": [
       "<Figure size 432x288 with 1 Axes>"
      ]
     },
     "metadata": {
      "needs_background": "light"
     },
     "output_type": "display_data"
    }
   ],
   "source": [
    "sns.distplot(gold_data['GLD'],color='green')"
   ]
  },
  {
   "cell_type": "markdown",
   "id": "10dc5d3a",
   "metadata": {},
   "source": [
    "# Splitting the Features and Target"
   ]
  },
  {
   "cell_type": "code",
   "execution_count": 12,
   "id": "f9c21f29",
   "metadata": {},
   "outputs": [],
   "source": [
    "x = gold_data.drop(['Date','GLD'],axis=1)\n",
    "y = gold_data['GLD']"
   ]
  },
  {
   "cell_type": "code",
   "execution_count": 13,
   "id": "6f15a679",
   "metadata": {},
   "outputs": [
    {
     "name": "stdout",
     "output_type": "stream",
     "text": [
      "              SPX        USO      SLV   EUR/USD\n",
      "0     1447.160034  78.470001  15.1800  1.471692\n",
      "1     1447.160034  78.370003  15.2850  1.474491\n",
      "2     1411.630005  77.309998  15.1670  1.475492\n",
      "3     1416.180054  75.500000  15.0530  1.468299\n",
      "4     1390.189941  76.059998  15.5900  1.557099\n",
      "...           ...        ...      ...       ...\n",
      "2285  2671.919922  14.060000  15.5100  1.186789\n",
      "2286  2697.790039  14.370000  15.5300  1.184722\n",
      "2287  2723.070068  14.410000  15.7400  1.191753\n",
      "2288  2730.129883  14.380000  15.5600  1.193118\n",
      "2289  2725.780029  14.405800  15.4542  1.182033\n",
      "\n",
      "[2290 rows x 4 columns]\n"
     ]
    }
   ],
   "source": [
    "print(x)"
   ]
  },
  {
   "cell_type": "code",
   "execution_count": 14,
   "id": "0232a9eb",
   "metadata": {
    "scrolled": true
   },
   "outputs": [
    {
     "name": "stdout",
     "output_type": "stream",
     "text": [
      "0        84.860001\n",
      "1        85.570000\n",
      "2        85.129997\n",
      "3        84.769997\n",
      "4        86.779999\n",
      "           ...    \n",
      "2285    124.589996\n",
      "2286    124.330002\n",
      "2287    125.180000\n",
      "2288    124.489998\n",
      "2289    122.543800\n",
      "Name: GLD, Length: 2290, dtype: float64\n"
     ]
    }
   ],
   "source": [
    "print(y)"
   ]
  },
  {
   "cell_type": "markdown",
   "id": "1f3d2e76",
   "metadata": {},
   "source": [
    "# Splitting into Training data and Test Data"
   ]
  },
  {
   "cell_type": "code",
   "execution_count": 15,
   "id": "ae76142c",
   "metadata": {},
   "outputs": [],
   "source": [
    "x_train, x_test, y_train, y_test = train_test_split(x, y, test_size = 0.3, random_state=2)"
   ]
  },
  {
   "cell_type": "markdown",
   "id": "3141c4e3",
   "metadata": {},
   "source": [
    "# Fitting linear regression"
   ]
  },
  {
   "cell_type": "code",
   "execution_count": 16,
   "id": "1be71fc8",
   "metadata": {},
   "outputs": [
    {
     "data": {
      "text/plain": [
       "array([159.45418744,  81.36647706, 113.47341507, 128.50060572,\n",
       "       126.12745577, 141.32029457, 165.50879755, 124.36182725,\n",
       "       113.87938196, 122.91558062, 113.87904354, 174.95424223,\n",
       "       132.64686836, 159.25357979, 118.81884711, 122.06472047,\n",
       "       150.38166241, 161.26591291, 152.27223146, 162.21731306,\n",
       "       145.86304934, 118.03209693, 180.27571608, 178.15530371,\n",
       "       123.39918646,  98.86992773,  76.54513324, 119.33651653,\n",
       "       113.79540713, 159.26674329,  93.82933672, 119.95753559,\n",
       "        88.42239002, 114.26627059, 112.80395948, 144.20720365,\n",
       "       118.71880679, 115.83286615, 144.07082067, 113.76079787,\n",
       "       100.52711017,  89.2564381 , 120.26625212, 110.50178206,\n",
       "       146.49200536, 119.25602002, 110.97351498, 111.30022589,\n",
       "        96.34626168, 123.32770175,  79.54257322, 115.29285939,\n",
       "       121.73976159, 114.50634739, 120.82677882, 117.07140437,\n",
       "       152.30066376, 182.80740675, 196.74240277,  90.92250411,\n",
       "       101.8092917 ,  87.30570094,  94.40999581, 119.0688613 ,\n",
       "       121.77228299, 125.81239568, 163.26461492, 122.82048937,\n",
       "       113.47938555, 104.11242832, 155.18187996, 176.8846218 ,\n",
       "       125.65197764, 113.89578906, 119.61690752, 119.97789091,\n",
       "       117.77975279, 118.31219022, 113.67212558, 129.92385146,\n",
       "       121.67054121, 104.66486673, 117.12112292, 126.2369506 ,\n",
       "        94.52168337,  88.45882347, 173.79986442, 123.32880333,\n",
       "       121.04108203, 106.88948822, 102.44920733,  75.53112142,\n",
       "       160.62690412, 116.46343639, 123.3326236 , 128.85787744,\n",
       "       141.97625372,  94.77731392, 140.61925806, 150.87228195,\n",
       "       120.55478557, 126.14374339, 126.18582519, 117.71892445,\n",
       "       120.19571066,  96.12195849, 108.46733337, 160.73536198,\n",
       "       149.28806397, 116.83432847, 101.92494878,  78.52920966,\n",
       "       113.49569053, 121.74394466, 111.49173004, 119.92210051,\n",
       "       144.95184058, 150.4770656 , 120.35410066, 148.6414788 ,\n",
       "       102.39506807, 112.96986543, 116.63601235, 114.10589284,\n",
       "       111.67456441, 149.6027558 , 103.3147261 , 162.83696913,\n",
       "       127.21806808, 159.37412885, 122.64790014, 122.93956337,\n",
       "       121.54484715, 114.10286959, 119.6690677 , 121.62250012,\n",
       "       110.37020341,  93.58975347, 120.81453191, 105.33472754,\n",
       "       105.77282593, 121.7599775 , 123.29180693, 104.40051952,\n",
       "       124.33309068, 157.1383202 ,  90.12876317, 111.72665898,\n",
       "       116.19383132, 129.66775164, 122.56282435,  86.92867448,\n",
       "       125.50897575, 149.15807048,  93.27108312, 113.35450417,\n",
       "       114.7323573 , 174.25667611, 111.49857431, 112.2054793 ,\n",
       "       124.55543567, 149.14327431,  92.36109543,  96.65805791,\n",
       "       120.27782436, 181.11348941, 122.13045571, 116.71391965,\n",
       "        99.22889737, 119.25045588, 153.71831301, 117.3424719 ,\n",
       "       116.0002925 ,  88.31052355, 201.1875085 , 112.72561825,\n",
       "        95.79338737, 110.27846647, 110.81616988, 124.08375642,\n",
       "        91.24373184,  99.29656312, 118.15657574, 111.48970111,\n",
       "       120.17474082, 123.69283361, 116.63043907, 149.22405929,\n",
       "       157.42156105, 121.35115086, 118.59298377, 145.28275757,\n",
       "       111.48176954, 173.86735469, 106.37884929, 112.57927391,\n",
       "       202.03829377, 121.2696831 , 123.07691542, 162.57620853,\n",
       "       111.99220515, 116.85289321, 110.19620414, 111.44858527,\n",
       "       143.44863223, 113.67593811, 111.92932705, 116.55973576,\n",
       "       100.75776529, 105.08904114, 119.86993673,  96.89382323,\n",
       "        95.49259126, 143.70252028, 111.65453764, 145.44289535,\n",
       "       112.02077498, 159.67542832,  90.54123498, 113.80904063,\n",
       "       117.05823182, 120.70880147, 116.07171054, 156.18285674,\n",
       "       100.30276136, 138.52870717, 122.71092972, 121.6808236 ,\n",
       "       111.18641687, 145.12969313, 119.57612568, 118.86077771,\n",
       "       121.05619149, 123.45177949, 119.3751399 , 121.56805628,\n",
       "       122.70056905,  89.69189067, 127.48935245, 143.51268703,\n",
       "        88.94377561, 163.83859333, 150.55341354, 125.31766212,\n",
       "       157.28618439, 118.52335808, 114.72590077, 110.38593765,\n",
       "        99.36739842, 129.14944228, 104.93998697, 164.52838916,\n",
       "       124.19970503, 127.89882753, 126.36064689, 152.91317244,\n",
       "        90.87728225, 180.17268007, 121.2753208 , 123.33577215,\n",
       "        92.83880863, 118.94013399, 167.76919716,  95.86077876,\n",
       "       112.04717129, 105.50442081,  82.2752895 , 129.34769391,\n",
       "       147.61854908, 145.13205301,  81.06472948, 145.71514319,\n",
       "       125.04519884, 123.16883207, 121.44308048, 106.23402821,\n",
       "       144.3810939 , 117.57922534, 123.59552775, 119.77402288,\n",
       "       146.07601699, 121.23055734, 143.69999684,  96.79467934,\n",
       "       120.93988617, 118.81167766,  95.75376768,  95.7449056 ,\n",
       "       122.75760905, 120.19015438, 114.67904066, 111.41598492,\n",
       "       122.06685081, 123.66654729, 118.51832868, 144.92052625,\n",
       "        99.31040474, 122.01759115, 109.37153792,  97.73066089,\n",
       "       103.85446156,  82.06824916, 108.4900482 ,  94.64420504,\n",
       "        99.25238379, 127.94854877, 154.52440322,  94.90013565,\n",
       "       120.45079244, 125.24100186, 123.69908955, 123.10638233,\n",
       "       110.61306267,  93.84265535, 144.05728466, 118.62905768,\n",
       "       111.62121895, 159.09536776, 116.15574172,  89.42415485,\n",
       "       125.3190497 ,  93.83328017, 155.0921763 , 119.63012469,\n",
       "       120.80883722, 150.20679824, 112.10318812, 112.12325225,\n",
       "       103.42590662, 121.77591374,  79.43835622, 111.28660927,\n",
       "       129.53654815, 121.09503659,  97.3938307 , 138.05859043,\n",
       "       117.09802895, 120.74053898, 147.39810303, 149.14947603,\n",
       "       115.28597088, 156.04117032, 125.7282431 , 150.03941194,\n",
       "       125.4173857 , 152.07140022, 113.5971673 , 120.86704725,\n",
       "       160.97567232, 116.73795768, 125.28071719, 157.20753725,\n",
       "       120.40731363, 125.61180646, 147.15175053, 141.23233753,\n",
       "       127.82814362, 116.42572421, 113.89753353, 125.52145641,\n",
       "        93.79282889, 119.86875791, 143.5838682 , 110.41885803,\n",
       "       111.53620289, 153.35907914, 117.47876134, 159.15148057,\n",
       "       130.64168329, 120.42376665, 140.69965969, 162.04518926,\n",
       "       113.21329074, 115.7190649 , 153.12301546,  87.65426734,\n",
       "       120.65379717, 129.32464273, 125.02465043, 124.39537774,\n",
       "       122.47004317,  94.44362379, 142.57187781, 104.55084233,\n",
       "       145.69631189,  93.02951392, 104.73197753, 116.47483589,\n",
       "       120.46347375, 120.37703689,  94.738688  , 120.48909876,\n",
       "       154.14452755, 117.1393091 , 156.50214578, 123.82008276,\n",
       "       110.34081797, 124.79357334, 100.76958683,  94.44879388,\n",
       "       105.75261663, 122.31808485,  79.93451794, 126.66448634,\n",
       "       152.87603811, 114.85094101, 114.94923779, 119.04219308,\n",
       "       116.74932847, 122.76622503, 120.8057606 , 120.81216818,\n",
       "       105.10101004, 191.91453473, 122.55218708, 116.56443575,\n",
       "        77.83995348, 124.52551957, 143.27110664, 120.32346284,\n",
       "       120.92495703,  94.57876223, 111.32407891, 119.69233019,\n",
       "       112.51520854,  79.13857714, 142.60860177, 121.8459466 ,\n",
       "       113.01869316,  88.43944372, 114.02537103, 163.40457757,\n",
       "       125.12918698, 152.1112421 , 113.19159094, 118.57045755,\n",
       "       117.24277202, 104.56946977, 118.37014373, 126.00035444,\n",
       "       120.33020917, 100.79066644, 143.83931549, 120.93243945,\n",
       "       160.53470849, 149.56196178, 108.44999397, 120.93275033,\n",
       "       158.90748031, 118.1685305 , 158.12496428, 143.84140031,\n",
       "       120.43694916, 159.85842181, 111.20266657, 126.37692225,\n",
       "       144.94318221, 106.99174206, 106.43504382, 120.33348122,\n",
       "        95.31673482, 120.87582038, 120.8780273 , 100.03533227,\n",
       "       141.4392321 , 111.9989917 ,  87.02104041, 121.84753271,\n",
       "       100.97109368, 125.35502088, 118.60931262, 123.84605958,\n",
       "       120.05965224, 117.87555171, 127.28545513, 114.08891393,\n",
       "       117.90187127, 113.12704873, 111.74631982, 146.45621523,\n",
       "       118.6013007 , 122.33253599,  80.0691967 , 189.3093706 ,\n",
       "        90.45643414, 158.89193288, 112.72380349, 163.83139491,\n",
       "       175.4467029 , 133.16934074, 119.30917628, 119.01616584,\n",
       "       160.88902852, 120.36100826, 116.91883375, 124.84406157,\n",
       "       121.11086961, 130.6954056 ,  80.02977765,  97.33371651,\n",
       "       109.86894228, 121.4003963 , 122.80086057, 118.80334896,\n",
       "       120.02047492, 121.28870132, 121.80219034, 112.20945415,\n",
       "       114.73939687,  86.73828591,  94.62067927, 126.40862309,\n",
       "       114.91553757,  95.35033074, 123.90775151, 106.83203316,\n",
       "       110.31471287,  96.88111717, 148.01948033, 103.84002507,\n",
       "       118.5465905 ,  94.58065843, 117.54160883, 123.20591213,\n",
       "       115.5384136 , 145.59265712, 139.83243728, 119.03380364,\n",
       "       101.87663144, 118.36361541, 120.05993912,  83.9513065 ,\n",
       "       110.93798319,  96.82186174, 131.59161821, 110.76676384,\n",
       "       106.02178142,  94.09846676, 113.64967746, 108.78788463,\n",
       "       118.95201947, 134.90635496, 114.06414116, 118.95960549,\n",
       "       145.81999728, 110.77571657, 101.34393068, 127.63159972,\n",
       "       124.05676969, 123.23098183, 119.1286931 , 110.82366286,\n",
       "        91.89626379, 113.91825576, 119.08452917, 122.51373019,\n",
       "       144.21997457,  91.69440876, 151.52784273, 119.93470701,\n",
       "       111.48448475, 149.78678254, 163.35774728, 153.11823488,\n",
       "       116.80537288, 106.1060253 , 125.13962787, 143.61970883,\n",
       "        92.74478323, 119.49841725, 121.04420492, 116.90419348,\n",
       "        92.29784015, 139.97710672, 128.52091536, 120.57212506,\n",
       "       114.77217829, 106.9145704 , 147.37077434, 109.95230501,\n",
       "       116.68708787, 115.32169066, 120.11289731, 125.12232284,\n",
       "       120.0842368 , 121.04102541, 143.34115201, 124.06334738,\n",
       "        95.44819775, 117.5393705 , 119.10672529,  81.66278311,\n",
       "       120.11173522, 114.62014313, 110.74157838, 117.66791392,\n",
       "       150.85781206, 116.01120965,  92.24371394, 111.76961067,\n",
       "       121.78242984, 142.67315865, 125.12031316, 122.43646095,\n",
       "        92.04170788, 123.65217001, 163.00030419, 122.54936673,\n",
       "       153.47503914, 110.97319079, 110.71257855, 114.5117106 ,\n",
       "       160.38553643, 122.40941841, 103.54411757,  94.69792289,\n",
       "       105.81757631, 117.51212976, 111.50427047, 117.90996382,\n",
       "        93.70135555,  96.91008325,  93.71208831, 103.49780545,\n",
       "        99.90484772, 148.48925687, 184.6592652 , 174.72105821,\n",
       "       143.11721414, 120.04935958, 161.9356395 ,  89.84109734,\n",
       "       122.51795923, 120.18726342,  91.34358695, 120.72631754,\n",
       "        99.55653079,  96.76394925, 110.83039002, 114.61596111,\n",
       "        95.92613044, 146.08463726, 119.50692851, 107.19113092,\n",
       "       119.31010132, 162.47599327,  80.78752752, 144.60035999,\n",
       "       123.00811483, 120.49492785, 131.49894765,  95.88908936,\n",
       "       127.25284707, 147.67197402, 116.70541693, 113.19542787,\n",
       "       117.27363153, 180.98755227, 120.99184412, 122.32044266,\n",
       "       128.66514824, 119.42432471, 169.63056166, 140.65270567,\n",
       "       123.24429284, 146.87835319, 111.03120303,  89.26718338,\n",
       "       118.47074928, 123.07843535, 119.30687169, 157.01287013,\n",
       "       117.96892179, 166.65774557, 120.95820427,  85.17056975,\n",
       "       148.95187545, 124.02997448,  86.90304347, 111.11145601,\n",
       "       121.37023834, 130.14250164, 158.27748222, 121.66806057,\n",
       "       116.30013349,  80.29884299, 116.4535489 ])"
      ]
     },
     "execution_count": 16,
     "metadata": {},
     "output_type": "execute_result"
    }
   ],
   "source": [
    "from sklearn.linear_model import LinearRegression\n",
    "from sklearn.metrics import mean_squared_error\n",
    "lr=LinearRegression()\n",
    "lr.fit(x_train,y_train)\n",
    "y_pred=lr.predict(x_test)\n",
    "y_pred"
   ]
  },
  {
   "cell_type": "code",
   "execution_count": 17,
   "id": "7abb84a7",
   "metadata": {},
   "outputs": [],
   "source": [
    "from sklearn.metrics import r2_score,mean_absolute_error"
   ]
  },
  {
   "cell_type": "markdown",
   "id": "7a3fe25b",
   "metadata": {},
   "source": [
    "# R squared error"
   ]
  },
  {
   "cell_type": "code",
   "execution_count": 18,
   "id": "5919d94e",
   "metadata": {},
   "outputs": [
    {
     "name": "stdout",
     "output_type": "stream",
     "text": [
      "Accuracy : 0.8742729610724103\n"
     ]
    }
   ],
   "source": [
    "print(f\"Accuracy : {r2_score(y_test,y_pred)}\")"
   ]
  },
  {
   "cell_type": "code",
   "execution_count": 19,
   "id": "eb3066bf",
   "metadata": {
    "scrolled": true
   },
   "outputs": [
    {
     "name": "stdout",
     "output_type": "stream",
     "text": [
      "Train accuracy: 0.8839736611006759\n",
      "Test accuracy: 0.8742729610724103\n"
     ]
    }
   ],
   "source": [
    "print(\"Train accuracy:\",lr.score(x_train,y_train))\n",
    "print(\"Test accuracy:\",lr.score(x_test,y_test))"
   ]
  },
  {
   "cell_type": "markdown",
   "id": "3e875d58",
   "metadata": {},
   "source": [
    "# Fitting random forest regressor"
   ]
  },
  {
   "cell_type": "code",
   "execution_count": 20,
   "id": "249c3ccf",
   "metadata": {},
   "outputs": [],
   "source": [
    "from sklearn.ensemble import RandomForestRegressor"
   ]
  },
  {
   "cell_type": "code",
   "execution_count": 21,
   "id": "23212923",
   "metadata": {},
   "outputs": [
    {
     "data": {
      "text/plain": [
       "array([168.99769965,  81.90959987, 116.2964004 , 127.30040089,\n",
       "       120.55190178, 154.67919825, 150.45350042, 126.28780024,\n",
       "       117.87569885, 126.10730065, 116.3155009 , 172.11590075,\n",
       "       142.26489888, 167.585899  , 115.11589983, 117.41400048,\n",
       "       137.95500321, 170.50420108, 159.76480365, 161.77999963,\n",
       "       155.09040001, 125.82530004, 175.39149977, 156.92100312,\n",
       "       125.09640089,  93.62359901,  76.06990036, 120.47320012,\n",
       "       119.32050041, 167.32060062,  88.34619901, 125.61540145,\n",
       "        91.2009009 , 117.80780002, 121.04829937, 136.47990089,\n",
       "       115.45320137, 116.54810092, 148.16129946, 107.35230095,\n",
       "       103.99270177,  87.23149785, 126.62550031, 117.64949907,\n",
       "       154.44709919, 119.98659999, 108.29480104, 108.14609806,\n",
       "        93.15049959, 127.39999708,  75.01540043, 113.64529935,\n",
       "       121.29929998, 111.07359896, 118.95519873, 120.1771    ,\n",
       "       157.63090067, 167.02730255, 146.90699675,  86.13959978,\n",
       "        94.28619999,  86.85379879,  90.49299997, 118.82500091,\n",
       "       126.42500063, 127.65139991, 170.66029984, 122.1725996 ,\n",
       "       117.27929927,  99.01239972, 168.25390153, 142.70409799,\n",
       "       131.42780201, 121.25480216, 122.08419937, 119.70900084,\n",
       "       114.55480181, 118.28090071, 107.43550093, 127.8743012 ,\n",
       "       114.07879985, 107.30449999, 117.03180078, 119.65869911,\n",
       "        89.07360051,  88.1151985 , 145.01190189, 127.4609996 ,\n",
       "       113.2185005 , 110.16109839, 108.13409931,  77.14729927,\n",
       "       169.81330228, 114.37979932, 121.65619919, 127.74980179,\n",
       "       154.96109968,  91.19109902, 134.80780145, 158.2249044 ,\n",
       "       123.9684008 , 125.46700024, 130.74830143, 115.06590147,\n",
       "       119.95849977,  92.14109967, 110.1448986 , 168.60469851,\n",
       "       157.25040014, 114.67180031, 106.44370115,  79.15269949,\n",
       "       113.23550057, 125.88360044, 107.01469952, 119.5898005 ,\n",
       "       155.871703  , 160.10849952, 119.40030018, 134.5328022 ,\n",
       "       101.56419992, 117.4286981 , 119.47540024, 112.97170116,\n",
       "       102.85319928, 159.440798  ,  99.23049974, 149.68790017,\n",
       "       125.49900098, 169.40549888, 125.88949842, 127.33309816,\n",
       "       127.49540175, 113.73209944, 113.66560124, 123.83089906,\n",
       "       102.51569928,  89.70869936, 124.66319937, 102.07469922,\n",
       "       106.98789987, 113.18140079, 117.17470088,  99.54219945,\n",
       "       121.89130017, 162.76679892,  87.36899841, 106.92469982,\n",
       "       117.13030097, 127.72320099, 123.8169007 ,  80.88829933,\n",
       "       120.27320072, 155.44949837,  88.25279934, 110.2262992 ,\n",
       "       119.04149927, 172.79769858, 102.93589895, 105.48360028,\n",
       "       122.41710029, 156.33019761,  87.55239821,  93.29609984,\n",
       "       112.59970019, 176.4899006 , 114.40889931, 119.48369991,\n",
       "        95.89190096, 125.5877997 , 166.58690088, 115.05250111,\n",
       "       116.91250153,  88.21619866, 148.50739957, 120.32949958,\n",
       "        89.55639972, 112.59079994, 116.81440024, 118.91430135,\n",
       "        87.9138991 ,  94.39509997, 116.80779954, 119.14390048,\n",
       "       120.25220011, 126.57209824, 121.84190005, 151.13610003,\n",
       "       164.7393011 , 118.59869965, 120.44130105, 149.5881004 ,\n",
       "       117.82609861, 173.02239922, 105.79889953, 105.23530024,\n",
       "       149.47550032, 113.48210078, 124.67610182, 148.61010233,\n",
       "       119.64210093, 115.29850047, 112.47939988, 113.49870208,\n",
       "       140.52140079, 117.74979782, 102.96400037, 115.92670085,\n",
       "       103.20840112,  99.07410008, 117.38640057,  90.79739989,\n",
       "        91.74110038, 153.12180071, 102.67030014, 155.17490097,\n",
       "       114.29580192, 139.84540148,  89.77039809, 115.54639914,\n",
       "       112.98930101, 122.45350112, 121.77479998, 165.31600081,\n",
       "        93.05799896, 135.4405011 , 121.2699996 , 120.91740087,\n",
       "       104.96910005, 141.18290348, 122.48419946, 116.70080036,\n",
       "       113.55500098, 127.09449723, 122.30939965, 125.89279915,\n",
       "       121.19040063,  86.93669887, 132.59100144, 143.76070236,\n",
       "        93.11009948, 157.42239975, 157.88320439, 126.07180044,\n",
       "       163.83789943, 109.02809993, 110.28190084, 103.97059817,\n",
       "        93.94830242, 127.5880025 , 107.29100091, 158.82319944,\n",
       "       121.93399987, 131.62929972, 130.88740086, 159.2945996 ,\n",
       "        89.79439783, 174.85820258, 127.68090021, 126.51759858,\n",
       "        86.79039929, 124.49489881, 151.26339744,  89.77250003,\n",
       "       107.10719978, 108.83919967,  85.14639904, 136.06980032,\n",
       "       154.90420043, 139.02100374,  75.2139    , 150.13699963,\n",
       "       126.01110127, 126.78460031, 127.54519858, 108.38019939,\n",
       "       155.94880086, 114.58710143, 116.91580141, 125.01769968,\n",
       "       153.57980171, 120.97209977, 156.32049941,  92.7518995 ,\n",
       "       125.66080115, 124.74709975,  87.74839915,  91.85949932,\n",
       "       126.38489929, 127.68530268, 113.40510174, 117.42249767,\n",
       "       121.05890009, 127.22869725, 120.04560096, 136.43080066,\n",
       "        93.84869869, 120.08420092, 113.24640102,  94.29409926,\n",
       "       108.68350003,  87.49749914, 109.33059902,  89.8002995 ,\n",
       "        91.81800069, 131.77060203, 162.13970041,  89.73959906,\n",
       "       119.55830086, 133.31360155, 123.57640002, 127.52409938,\n",
       "       102.50779914,  88.9604987 , 131.52820075, 120.66500078,\n",
       "       108.74970001, 165.64890083, 115.30220105,  86.51139904,\n",
       "       118.95250076,  90.93420011, 162.01970056, 116.50760027,\n",
       "       121.61359978, 160.08999795, 119.05630016, 112.72849947,\n",
       "       108.52929879, 126.88020026,  76.27780014, 103.05599961,\n",
       "       127.60600245, 121.81999977,  92.7463994 , 131.76530071,\n",
       "       117.89950092, 115.70479982, 155.2213016 , 159.2289009 ,\n",
       "       109.96429901, 155.30919744, 119.26560104, 160.54100127,\n",
       "       118.72650073, 157.49310112, 115.01239933, 116.38980022,\n",
       "       150.20599934, 114.83130092, 125.47329828, 164.39329853,\n",
       "       117.54509994, 124.85799927, 153.19450283, 153.49450252,\n",
       "       132.17580077, 114.69980025, 121.25230195, 124.15710049,\n",
       "        90.05259935, 122.96230016, 154.55880216, 111.99960073,\n",
       "       106.9746999 , 162.41600086, 118.8373002 , 165.61080058,\n",
       "       133.80810124, 115.10099996, 152.94349864, 169.6639024 ,\n",
       "       115.58119998, 113.93760125, 159.45079965,  85.21749842,\n",
       "       127.22740013, 127.92170045, 128.94579966, 124.37900047,\n",
       "       122.94119981,  90.23980076, 153.0540006 ,  96.96949957,\n",
       "       136.34229965,  89.26629921, 107.15540001, 115.09920083,\n",
       "       112.59210105, 124.49359928,  91.3494988 , 125.126101  ,\n",
       "       162.2720004 , 119.79159904, 164.89040085, 126.45769836,\n",
       "       112.44480035, 127.37919949,  94.37710181,  90.78299987,\n",
       "       103.39779915, 120.92610016,  83.22529935, 126.35459953,\n",
       "       160.7802053 , 117.62380095, 117.78109915, 120.1088005 ,\n",
       "       122.67339947, 120.17830068, 121.56360059, 118.5749997 ,\n",
       "       107.04840024, 147.52369802, 126.70269814, 115.65970144,\n",
       "        73.87820036, 127.75430015, 155.0047007 , 121.17820033,\n",
       "       125.49840034,  88.68679926, 102.62579862, 124.51990034,\n",
       "       120.41310028,  73.36900086, 150.52290164, 121.12880026,\n",
       "       105.3269    ,  86.29699811, 115.11609909, 172.05099799,\n",
       "       119.55660043, 160.15599853, 113.17909953, 121.03650036,\n",
       "       118.43420084,  95.87869984, 119.04140098, 125.84160014,\n",
       "       118.49949921,  95.76390127, 154.23140233, 121.93419978,\n",
       "       146.88820015, 159.18000278, 114.05590035, 122.03229991,\n",
       "       151.25009923, 126.97150036, 165.82200063, 135.5880002 ,\n",
       "       120.18159935, 167.65779858, 108.1978996 , 121.35010038,\n",
       "       139.67830127, 105.88129914, 109.82560013, 113.52090088,\n",
       "        90.47739907, 125.58950079, 119.98810069,  93.91790219,\n",
       "       152.0673005 , 116.70020071,  81.02829969, 121.58639992,\n",
       "       102.85190111, 127.83449994, 123.63109894, 118.39220064,\n",
       "       120.38490008, 120.77620049, 131.57220131, 116.73459834,\n",
       "       117.56759829, 115.68279914, 104.43619987, 152.97210191,\n",
       "       110.06239736, 126.07039903,  81.98499961, 179.02759812,\n",
       "        93.28030071, 167.31050067, 105.51960123, 171.70259882,\n",
       "       155.94770037, 132.52540193, 120.87659926, 123.58219889,\n",
       "       144.48950034, 125.06109934, 113.46400109, 125.5111013 ,\n",
       "       122.20549943, 139.10680076,  75.91400032,  92.78130016,\n",
       "       114.06519887, 121.20849932, 127.22799882, 122.10700054,\n",
       "       126.15790099, 122.30790027, 119.30560066, 104.1584995 ,\n",
       "       118.38349923,  85.03979921,  92.73280118, 121.691     ,\n",
       "       118.78159974,  92.43760122, 125.41290071,  97.33739855,\n",
       "       104.42169948,  89.65959937, 148.94730042, 108.93759975,\n",
       "       120.34220135,  91.68410125, 118.92469999, 128.7810981 ,\n",
       "       111.96799961, 155.47130135, 151.15830192, 108.88650111,\n",
       "        96.45559966, 117.87170023, 125.24050132,  80.70409896,\n",
       "       116.47960095,  92.99949888, 140.9964012 , 107.94659981,\n",
       "       106.84720084,  88.23439942, 117.73739957, 110.63659841,\n",
       "       121.51520047, 135.60480062, 115.02050069, 119.31460062,\n",
       "       156.53710029, 106.98200176,  96.86630095, 136.37600089,\n",
       "       128.86740113, 123.11650034, 119.88560092, 116.31230047,\n",
       "       103.61480133, 118.64099889, 120.91510083, 121.69110013,\n",
       "       156.23600124,  87.29929763, 163.76050029, 121.38359936,\n",
       "       119.13960038, 156.05480332, 160.18570116, 143.75179789,\n",
       "       115.03489988, 108.97150049, 126.74769868, 149.77570148,\n",
       "        94.26440153, 115.21050087, 122.15389958, 121.89479902,\n",
       "        87.29739849, 130.61930103, 130.95900312, 122.79169958,\n",
       "       113.08460137, 109.18939959, 154.07810221, 111.94170061,\n",
       "       113.01930059, 119.11449969, 113.71410143, 117.70769987,\n",
       "       124.54239982, 125.91880019, 135.43519819, 117.87000068,\n",
       "        91.53979859, 119.09550047, 118.80630165,  87.13179821,\n",
       "       119.34149925, 116.88930148, 117.6525991 , 117.45439922,\n",
       "       160.65370054, 116.56990106,  86.57140121, 107.95609876,\n",
       "       123.80450022, 153.99269971, 117.72010054, 120.91570002,\n",
       "        86.23770074, 127.68370014, 144.81820133, 127.14459912,\n",
       "       162.20239891, 118.02230004, 117.27329901, 118.63379994,\n",
       "       163.7037014 , 125.89790004,  99.37529978,  89.55389959,\n",
       "       107.00450131, 123.95419972, 118.93309972, 119.80240061,\n",
       "        90.09999928,  92.64889902,  89.03939899, 108.77030014,\n",
       "        95.7785009 , 145.3237009 , 179.22919849, 155.5072011 ,\n",
       "       154.64170187, 120.30910015, 140.9927015 ,  87.14619949,\n",
       "       123.4793998 , 119.2823008 ,  97.98400092, 125.1010012 ,\n",
       "        91.9583013 ,  92.89659943, 102.61459891, 117.08490081,\n",
       "        87.8497988 , 153.70329941, 110.90380102, 109.29889875,\n",
       "       125.85840034, 169.80810203,  72.88109999, 144.68930048,\n",
       "       124.5755012 , 112.43390031, 129.11939798,  91.13109867,\n",
       "       126.36840026, 157.96570013, 121.12770056, 120.96179857,\n",
       "       125.37700061, 146.07219986, 120.01159821, 124.1827991 ,\n",
       "       127.69890093, 122.61629988, 144.61389898, 152.3417991 ,\n",
       "       120.38570054, 149.1170995 , 117.06399927,  85.83249851,\n",
       "       120.77649968, 124.72460067, 125.67619986, 165.88519693,\n",
       "       122.69099961, 149.77729943, 125.48249947,  82.1239982 ,\n",
       "       155.38109809, 127.52300045,  88.27919816, 105.46310021,\n",
       "       122.36049928, 135.82139716, 168.42509469, 121.65480003,\n",
       "       114.87460046,  85.50929983, 111.61160023])"
      ]
     },
     "execution_count": 21,
     "metadata": {},
     "output_type": "execute_result"
    }
   ],
   "source": [
    "regressor = RandomForestRegressor(n_estimators = 100, random_state = 0)\n",
    " \n",
    "regressor.fit(x_train,y_train)\n",
    "y_pred=regressor.predict(x_test)\n",
    "y_pred"
   ]
  },
  {
   "cell_type": "code",
   "execution_count": 22,
   "id": "df748e4e",
   "metadata": {
    "scrolled": true
   },
   "outputs": [
    {
     "name": "stdout",
     "output_type": "stream",
     "text": [
      "Accuracy : 0.9894346482730472\n"
     ]
    }
   ],
   "source": [
    "print(f\"Accuracy : {r2_score(y_test,y_pred)}\")"
   ]
  },
  {
   "cell_type": "markdown",
   "id": "eef3912d",
   "metadata": {},
   "source": [
    "# plotting values of actual prices, versus the predicted prices"
   ]
  },
  {
   "cell_type": "code",
   "execution_count": 23,
   "id": "44465a74",
   "metadata": {
    "scrolled": true
   },
   "outputs": [
    {
     "data": {
      "image/png": "[encoded data removed]",
      "text/plain": [
       "<Figure size 432x288 with 1 Axes>"
      ]
     },
     "metadata": {
      "needs_background": "light"
     },
     "output_type": "display_data"
    }
   ],
   "source": [
    "plt.plot(y_pred, color='blue', label = 'Actual Value')\n",
    "plt.plot(y_pred, color='green', label='Predicted Value')\n",
    "plt.title('Actual Price vs Predicted Price')\n",
    "plt.xlabel('Number of values')\n",
    "plt.ylabel('GLD Price')\n",
    "plt.legend()\n",
    "plt.show()\n"
   ]
  },
  {
   "cell_type": "markdown",
   "id": "3b7b49b8",
   "metadata": {},
   "source": [
    "# Conclusion :- "
   ]
  },
  {
   "cell_type": "markdown",
   "id": "3e6f9da4",
   "metadata": {},
   "source": [
    "    \n",
    "By above analysis done, we can conclude that,\n",
    "\n",
    "Out of two regression algorithm RandomForestRegressor is giving more accuracy as compare to linear regression model.\n",
    "\n",
    "RandomForestRegressor is giving accuracy 98% which  is an excellent score."
   ]
  },
  {
   "cell_type": "markdown",
   "id": "45cc0cac",
   "metadata": {},
   "source": [
    "# Result :- "
   ]
  },
  {
   "cell_type": "markdown",
   "id": "8edb230d",
   "metadata": {},
   "source": [
    "\n",
    "  Thus we can observe, that the actual prices and the predicted prices are almost the same, as the two graphs overlap each other. Thus, or model has performed extremely well.\n",
    "  \n",
    "   \n"
   ]
  }
 ],
 "metadata": {
  "kernelspec": {
   "display_name": "Python 3",
   "language": "python",
   "name": "python3"
  },
  "language_info": {
   "codemirror_mode": {
    "name": "ipython",
    "version": 3
   },
   "file_extension": ".py",
   "mimetype": "text/x-python",
   "name": "python",
   "nbconvert_exporter": "python",
   "pygments_lexer": "ipython3",
   "version": "3.8.8"
  }
 },
 "nbformat": 4,
 "nbformat_minor": 5
}
